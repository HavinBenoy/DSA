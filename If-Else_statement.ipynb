{
 "cells": [
  {
   "cell_type": "code",
   "execution_count": 2,
   "id": "9c0fff71",
   "metadata": {},
   "outputs": [
    {
     "name": "stdout",
     "output_type": "stream",
     "text": [
      "Even\n",
      "Even\n"
     ]
    }
   ],
   "source": [
    "num = 10\n",
    "\n",
    "if num % 2 == 0:   # Without parentheses\n",
    "    print(\"Even\")\n",
    "\n",
    "if (num % 2 == 0): # With parentheses\n",
    "    print(\"Even\")\n"
   ]
  },
  {
   "cell_type": "code",
   "execution_count": 3,
   "id": "e1c4e55e",
   "metadata": {},
   "outputs": [
    {
     "name": "stdout",
     "output_type": "stream",
     "text": [
      "Positive Even number\n"
     ]
    }
   ],
   "source": [
    "if (num > 0) and (num % 2 == 0):\n",
    "    print(\"Positive Even number\")\n"
   ]
  },
  {
   "cell_type": "markdown",
   "id": "fceda349",
   "metadata": {},
   "source": [
    "##Problem\n",
    "\n",
    "Given marks of a student, print on the screen:\n",
    "\n",
    "Grade A if marks >= 90\n",
    "\n",
    "Grade B if marks >= 70\n",
    "\n",
    "Grade C if marks >= 50\n",
    "\n",
    "Grade D if marks >= 35\n",
    "\n",
    "Fail, otherwise."
   ]
  },
  {
   "cell_type": "code",
   "execution_count": null,
   "id": "53086262",
   "metadata": {},
   "outputs": [],
   "source": [
    "class Solution:\n",
    "    def studentGrade(self, marks):\n",
    "        if marks >= 90 :\n",
    "            print(\"Grade A\")\n",
    "        elif marks >= 70 :\n",
    "            print(\"Grade B\")\n",
    "        elif marks >= 50 :\n",
    "            print(\"Grade C\")\n",
    "        elif marks >= 35 :\n",
    "            print(\"Grade D\")\n",
    "        else :\n",
    "            print(\"Fail\")"
   ]
  }
 ],
 "metadata": {
  "kernelspec": {
   "display_name": "base",
   "language": "python",
   "name": "python3"
  },
  "language_info": {
   "codemirror_mode": {
    "name": "ipython",
    "version": 3
   },
   "file_extension": ".py",
   "mimetype": "text/x-python",
   "name": "python",
   "nbconvert_exporter": "python",
   "pygments_lexer": "ipython3",
   "version": "3.12.4"
  }
 },
 "nbformat": 4,
 "nbformat_minor": 5
}
