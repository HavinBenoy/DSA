{
 "cells": [
  {
   "cell_type": "code",
   "execution_count": 11,
   "id": "2fe13f4c",
   "metadata": {},
   "outputs": [
    {
     "name": "stdout",
     "output_type": "stream",
     "text": [
      "*****\n",
      "*   *\n",
      "*   *\n",
      "*   *\n",
      "*****\n"
     ]
    }
   ],
   "source": [
    "N = int(input(\"Enter an input number: \"))\n",
    "\n",
    "for i in range(N):\n",
    "    if i==0 or i==N-1:\n",
    "        print(\"*\" * N)\n",
    "    else:\n",
    "        print(\"*\",\" \"*(N-2),\"*\",sep = \"\")"
   ]
  },
  {
   "cell_type": "code",
   "execution_count": 12,
   "id": "988661f7",
   "metadata": {},
   "outputs": [
    {
     "name": "stdout",
     "output_type": "stream",
     "text": [
      "*****\n",
      "*   *\n",
      "*   *\n",
      "*   *\n",
      "*****\n"
     ]
    }
   ],
   "source": [
    "#Since we know only first and last row needs all the starts , we can keep it out of the for loop and not to use the if condition inside the loop.\n",
    "# Hence the more readable and efficient code is :\n",
    "\n",
    "N = int(input(\"Enter an input number: \"))\n",
    "\n",
    "# Top border\n",
    "print(\"*\" * N)\n",
    "\n",
    "# Middle part\n",
    "for _ in range(N-2):\n",
    "    print(\"*\" + \" \" * (N-2) + \"*\")\n",
    "\n",
    "# Bottom border (only if N > 1)\n",
    "if N > 1:\n",
    "    print(\"*\" * N)\n"
   ]
  },
  {
   "cell_type": "code",
   "execution_count": null,
   "id": "3e877c50",
   "metadata": {},
   "outputs": [],
   "source": [
    "\n"
   ]
  },
  {
   "cell_type": "code",
   "execution_count": null,
   "id": "6d1f1e59",
   "metadata": {},
   "outputs": [],
   "source": []
  }
 ],
 "metadata": {
  "kernelspec": {
   "display_name": "base",
   "language": "python",
   "name": "python3"
  },
  "language_info": {
   "codemirror_mode": {
    "name": "ipython",
    "version": 3
   },
   "file_extension": ".py",
   "mimetype": "text/x-python",
   "name": "python",
   "nbconvert_exporter": "python",
   "pygments_lexer": "ipython3",
   "version": "3.12.4"
  }
 },
 "nbformat": 4,
 "nbformat_minor": 5
}
