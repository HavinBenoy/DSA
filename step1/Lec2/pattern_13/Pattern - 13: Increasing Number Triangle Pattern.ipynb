{
 "cells": [
  {
   "cell_type": "code",
   "execution_count": 2,
   "id": "6ca756fa",
   "metadata": {},
   "outputs": [
    {
     "name": "stdout",
     "output_type": "stream",
     "text": [
      "1 \n",
      "2 3 \n",
      "4 5 6 \n",
      "7 8 9 10 \n",
      "11 12 13 14 15 \n",
      "16 17 18 19 20 21 \n"
     ]
    }
   ],
   "source": [
    "N = int(input(\"Enter an input number: \\n\"))\n",
    "\n",
    "k = 1\n",
    "\n",
    "for i in range (1,N+1):\n",
    "    for j in range(1,i+1):\n",
    "        print(k,end = \" \")\n",
    "        k += 1\n",
    "    print()"
   ]
  },
  {
   "cell_type": "code",
   "execution_count": null,
   "id": "3e2e92fa",
   "metadata": {},
   "outputs": [],
   "source": [
    "# More readable version\n",
    "\n",
    "N = int(input(\"Enter an input number: \"))\n",
    "\n",
    "k = 1\n",
    "for i in range(1, N+1):\n",
    "    row = [str(k + j) for j in range(i)]  # build row as list of strings\n",
    "    print(\" \".join(row))\n",
    "    k += i  # move k to the next starting number\n"
   ]
  }
 ],
 "metadata": {
  "kernelspec": {
   "display_name": "base",
   "language": "python",
   "name": "python3"
  },
  "language_info": {
   "codemirror_mode": {
    "name": "ipython",
    "version": 3
   },
   "file_extension": ".py",
   "mimetype": "text/x-python",
   "name": "python",
   "nbconvert_exporter": "python",
   "pygments_lexer": "ipython3",
   "version": "3.12.4"
  }
 },
 "nbformat": 4,
 "nbformat_minor": 5
}
