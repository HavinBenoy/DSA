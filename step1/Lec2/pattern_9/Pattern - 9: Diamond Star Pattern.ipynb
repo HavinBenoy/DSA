{
 "cells": [
  {
   "cell_type": "code",
   "execution_count": 1,
   "id": "fa09684c",
   "metadata": {},
   "outputs": [
    {
     "name": "stdout",
     "output_type": "stream",
     "text": [
      "  *  \n",
      " *** \n",
      "*****\n",
      "*****\n",
      " *** \n",
      "  *  \n"
     ]
    }
   ],
   "source": [
    "N = int(input(\"Enter the input number: \\n\"))\n",
    "\n",
    "for i in range(1,N+1):\n",
    "    stars = 2*i-1\n",
    "    spaces = ((2*N-1) - stars) // 2\n",
    "    print(\" \"*spaces + \"*\"*stars + \" \"*spaces)\n",
    "for i in range(N,0,-1):\n",
    "    stars = 2*i-1\n",
    "    spaces = ((2*N-1) - stars) // 2\n",
    "    print(\" \"*spaces + \"*\"*stars + \" \"*spaces)"
   ]
  },
  {
   "cell_type": "code",
   "execution_count": null,
   "id": "03b35e63",
   "metadata": {},
   "outputs": [],
   "source": [
    "# Repeatation is reduced , improved readability :\n",
    "\n",
    "N = int(input(\"Enter the input number: \"))\n",
    "\n",
    "# top (1..N) and bottom (N..1) together\n",
    "for i in list(range(1, N+1)) + list(range(N, 0, -1)):\n",
    "    stars = 2 * i - 1\n",
    "    spaces = (2 * N - 1 - stars) // 2\n",
    "    print(\" \" * spaces + \"*\" * stars + \" \" * spaces)\n"
   ]
  },
  {
   "cell_type": "code",
   "execution_count": null,
   "id": "29f97050",
   "metadata": {},
   "outputs": [],
   "source": []
  },
  {
   "cell_type": "code",
   "execution_count": null,
   "id": "fb2b0317",
   "metadata": {},
   "outputs": [],
   "source": []
  }
 ],
 "metadata": {
  "kernelspec": {
   "display_name": "base",
   "language": "python",
   "name": "python3"
  },
  "language_info": {
   "codemirror_mode": {
    "name": "ipython",
    "version": 3
   },
   "file_extension": ".py",
   "mimetype": "text/x-python",
   "name": "python",
   "nbconvert_exporter": "python",
   "pygments_lexer": "ipython3",
   "version": "3.12.4"
  }
 },
 "nbformat": 4,
 "nbformat_minor": 5
}
