{
 "cells": [
  {
   "cell_type": "code",
   "execution_count": 3,
   "id": "58e84567",
   "metadata": {},
   "outputs": [
    {
     "name": "stdout",
     "output_type": "stream",
     "text": [
      "A \n",
      "B B \n",
      "C C C \n",
      "D D D D \n",
      "E E E E E \n",
      "F F F F F F \n"
     ]
    }
   ],
   "source": [
    "N = int(input(\"Enter an input number: \"))\n",
    "\n",
    "for i in range(1,N+1):\n",
    "    print(f\"{chr(64+i)} \" * i)"
   ]
  },
  {
   "cell_type": "code",
   "execution_count": 4,
   "id": "f74e0d56",
   "metadata": {},
   "outputs": [
    {
     "name": "stdout",
     "output_type": "stream",
     "text": [
      "A\n",
      "B B\n",
      "C C C\n",
      "D D D D\n",
      "E E E E E\n",
      "F F F F F F\n"
     ]
    }
   ],
   "source": [
    "# Leaves the extra space at the end of the line:\n",
    "\n",
    "N = int(input(\"Enter an input number: \"))\n",
    "\n",
    "for i in range(1, N+1):\n",
    "    print(\" \".join([chr(64 + i)] * i))\n"
   ]
  },
  {
   "cell_type": "code",
   "execution_count": null,
   "id": "cc38457d",
   "metadata": {},
   "outputs": [],
   "source": []
  }
 ],
 "metadata": {
  "kernelspec": {
   "display_name": "base",
   "language": "python",
   "name": "python3"
  },
  "language_info": {
   "codemirror_mode": {
    "name": "ipython",
    "version": 3
   },
   "file_extension": ".py",
   "mimetype": "text/x-python",
   "name": "python",
   "nbconvert_exporter": "python",
   "pygments_lexer": "ipython3",
   "version": "3.12.4"
  }
 },
 "nbformat": 4,
 "nbformat_minor": 5
}
