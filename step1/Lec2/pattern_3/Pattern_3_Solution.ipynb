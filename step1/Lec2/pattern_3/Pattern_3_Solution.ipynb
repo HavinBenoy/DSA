{
 "cells": [
  {
   "cell_type": "code",
   "execution_count": 3,
   "id": "94ca4302",
   "metadata": {},
   "outputs": [
    {
     "name": "stdout",
     "output_type": "stream",
     "text": [
      " 1 \n",
      "\n",
      " 1  2 \n",
      "\n",
      " 1  2  3 \n",
      "\n",
      " 1  2  3  4 \n",
      "\n",
      " 1  2  3  4  5 \n",
      "\n"
     ]
    }
   ],
   "source": [
    "N = int(input(\"Enter the input number: \\n\"))\n",
    "\n",
    "for i in range( N ):\n",
    "    for j in range(i+1):\n",
    "        print(f\" {j+1} \",end = \"\")\n",
    "    print(\"\\n\")"
   ]
  },
  {
   "cell_type": "code",
   "execution_count": null,
   "id": "6ecf8397",
   "metadata": {},
   "outputs": [],
   "source": []
  }
 ],
 "metadata": {
  "kernelspec": {
   "display_name": "base",
   "language": "python",
   "name": "python3"
  },
  "language_info": {
   "codemirror_mode": {
    "name": "ipython",
    "version": 3
   },
   "file_extension": ".py",
   "mimetype": "text/x-python",
   "name": "python",
   "nbconvert_exporter": "python",
   "pygments_lexer": "ipython3",
   "version": "3.12.4"
  }
 },
 "nbformat": 4,
 "nbformat_minor": 5
}
