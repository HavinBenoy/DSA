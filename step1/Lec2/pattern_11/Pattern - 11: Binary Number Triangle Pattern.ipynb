{
 "cells": [
  {
   "cell_type": "code",
   "execution_count": 3,
   "id": "b12377b7",
   "metadata": {},
   "outputs": [
    {
     "name": "stdout",
     "output_type": "stream",
     "text": [
      "1 \n",
      "0 1 \n",
      "1 0 1 \n",
      "0 1 0 1 \n",
      "1 0 1 0 1 \n"
     ]
    }
   ],
   "source": [
    "N = int(input(\"Enter an input number: \\n\"))\n",
    "\n",
    "for i in range(1,N+1):\n",
    "    if i%2==1:\n",
    "        for j in range(1,i+1):\n",
    "            if j%2==1:\n",
    "                print(\"1 \",end=\"\")\n",
    "            else :\n",
    "                print(\"0 \",end=\"\")\n",
    "        print()\n",
    "    else:\n",
    "        for j in range(1,i+1):\n",
    "            if j%2==1:\n",
    "                print(\"0 \",end=\"\")\n",
    "            else :\n",
    "                print(\"1 \",end=\"\")\n",
    "        print()"
   ]
  },
  {
   "cell_type": "code",
   "execution_count": null,
   "id": "c5169843",
   "metadata": {},
   "outputs": [
    {
     "name": "stdout",
     "output_type": "stream",
     "text": [
      "1\n",
      "0 1\n",
      "1 0 1\n",
      "0 1 0 1\n",
      "1 0 1 0 1\n"
     ]
    }
   ],
   "source": [
    "# improved readability and removed nested if-conditions. Uses (row+column)%2 technique inorder to get the pattern.\n",
    "\n",
    "N = int(input(\"Enter an input number: \"))\n",
    "\n",
    "for i in range(1, N+1):\n",
    "    row=[]\n",
    "    for j in range(1,i+1):\n",
    "        num = (i + j+ 1) % 2 # Value of each postion is calculating. if we use just (i+j) then , (odd row, odd column) position will become 0, but in the pattern it is 1 .So we add a 1 inorder to change it. \n",
    "        row.append(num) \n",
    "    print(\" \".join(map(str, row)))\n",
    "\n",
    "\n"
   ]
  },
  {
   "cell_type": "code",
   "execution_count": 10,
   "id": "9d85d30c",
   "metadata": {},
   "outputs": [
    {
     "name": "stdout",
     "output_type": "stream",
     "text": [
      "1\n",
      "0 1\n",
      "1 0 1\n",
      "0 1 0 1\n",
      "1 0 1 0 1\n"
     ]
    }
   ],
   "source": [
    "#Most pythonic.ie shortest and readable version. \n",
    "\n",
    "N = int(input(\"Enter an input number: \"))\n",
    "\n",
    "for i in range(1, N+1):\n",
    "    row = [(i + j+ 1) % 2 for j in range(1, i+1)]   # pattern logic in one line\n",
    "    print(\" \".join(map(str, row)))\n"
   ]
  },
  {
   "cell_type": "code",
   "execution_count": null,
   "id": "af06d89d",
   "metadata": {},
   "outputs": [],
   "source": []
  }
 ],
 "metadata": {
  "kernelspec": {
   "display_name": "base",
   "language": "python",
   "name": "python3"
  },
  "language_info": {
   "codemirror_mode": {
    "name": "ipython",
    "version": 3
   },
   "file_extension": ".py",
   "mimetype": "text/x-python",
   "name": "python",
   "nbconvert_exporter": "python",
   "pygments_lexer": "ipython3",
   "version": "3.12.4"
  }
 },
 "nbformat": 4,
 "nbformat_minor": 5
}
