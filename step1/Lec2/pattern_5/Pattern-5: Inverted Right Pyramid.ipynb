{
 "cells": [
  {
   "cell_type": "code",
   "execution_count": 4,
   "id": "7c6cd43b",
   "metadata": {},
   "outputs": [
    {
     "name": "stdout",
     "output_type": "stream",
     "text": [
      " *  *  *  *  * \n",
      "\n",
      " *  *  *  * \n",
      "\n",
      " *  *  * \n",
      "\n",
      " *  * \n",
      "\n",
      " * \n",
      "\n"
     ]
    }
   ],
   "source": [
    "N = int(input(\"Enter the input number: \\n\"))\n",
    "\n",
    "for i in range(N,0,-1):\n",
    "    for j in range(i):\n",
    "        print(f\" * \",end = \"\")\n",
    "    print(\"\\n\")\n"
   ]
  },
  {
   "cell_type": "code",
   "execution_count": null,
   "id": "48c96db5",
   "metadata": {},
   "outputs": [
    {
     "name": "stdout",
     "output_type": "stream",
     "text": [
      "* * * * * \n",
      "* * * * \n",
      "* * * \n",
      "* * \n",
      "* \n"
     ]
    }
   ],
   "source": [
    "'''Better solution interms of readability: still O(N2) is the complexity (Since the output itself contains N*(N+1)/2 stars, any algorithm must print that many characters.\n",
    "So O(N²) is the theoretical lower bound — you cannot do better computationally.)'''\n",
    "\n",
    "for i in range(N, 0, -1):\n",
    "    print(\"* \" * i)\n"
   ]
  },
  {
   "cell_type": "code",
   "execution_count": null,
   "id": "177affe0",
   "metadata": {},
   "outputs": [],
   "source": []
  }
 ],
 "metadata": {
  "kernelspec": {
   "display_name": "base",
   "language": "python",
   "name": "python3"
  },
  "language_info": {
   "codemirror_mode": {
    "name": "ipython",
    "version": 3
   },
   "file_extension": ".py",
   "mimetype": "text/x-python",
   "name": "python",
   "nbconvert_exporter": "python",
   "pygments_lexer": "ipython3",
   "version": "3.12.4"
  }
 },
 "nbformat": 4,
 "nbformat_minor": 5
}
