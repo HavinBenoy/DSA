{
 "cells": [
  {
   "cell_type": "code",
   "execution_count": 3,
   "id": "da0a8f81",
   "metadata": {},
   "outputs": [
    {
     "name": "stdout",
     "output_type": "stream",
     "text": [
      " 1 \n",
      "\n",
      " 2  2 \n",
      "\n",
      " 3  3  3 \n",
      "\n",
      " 4  4  4  4 \n",
      "\n",
      " 5  5  5  5  5 \n",
      "\n"
     ]
    }
   ],
   "source": [
    "N = int(input(\"Enter the input number: \\n\"))\n",
    "\n",
    "for i in range( N ):\n",
    "    for j in range(i+1):\n",
    "        print(f\" {i+1} \",end=\"\")\n",
    "    print(f\"\\n\")"
   ]
  },
  {
   "cell_type": "code",
   "execution_count": null,
   "id": "c5bdb708",
   "metadata": {},
   "outputs": [],
   "source": []
  }
 ],
 "metadata": {
  "kernelspec": {
   "display_name": "base",
   "language": "python",
   "name": "python3"
  },
  "language_info": {
   "codemirror_mode": {
    "name": "ipython",
    "version": 3
   },
   "file_extension": ".py",
   "mimetype": "text/x-python",
   "name": "python",
   "nbconvert_exporter": "python",
   "pygments_lexer": "ipython3",
   "version": "3.12.4"
  }
 },
 "nbformat": 4,
 "nbformat_minor": 5
}
