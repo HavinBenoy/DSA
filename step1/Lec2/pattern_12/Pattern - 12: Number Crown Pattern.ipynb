{
 "cells": [
  {
   "cell_type": "code",
   "execution_count": 15,
   "id": "76968df5",
   "metadata": {},
   "outputs": [
    {
     "name": "stdout",
     "output_type": "stream",
     "text": [
      "1        1\n",
      "12      21\n",
      "123    321\n",
      "1234  4321\n",
      "1234554321\n"
     ]
    }
   ],
   "source": [
    "N = int(input(\"Enter an input number: \\n\"))\n",
    "\n",
    "for i in range(1,N+1):\n",
    "    space = (2 * N) - (2 * i)\n",
    "    for j in range(1,i+1):\n",
    "        print(j,end = \"\")\n",
    "    print(\" \" * space, end = \"\")\n",
    "    for j in range(i,0,-1):\n",
    "        print(j,end = \"\")\n",
    "    print()"
   ]
  },
  {
   "cell_type": "code",
   "execution_count": 12,
   "id": "3ea7043d",
   "metadata": {},
   "outputs": [
    {
     "name": "stdout",
     "output_type": "stream",
     "text": [
      "1        1\n",
      "12      21\n",
      "123    321\n",
      "1234  4321\n",
      "1234554321\n"
     ]
    }
   ],
   "source": [
    "# Only minor improvements are made here , I feel its okay to follow the aboue code itself. But this one is definetly more compact and readable.\n",
    "\n",
    "N = int(input(\"Enter an input number: \"))\n",
    "\n",
    "for i in range(1, N+1):\n",
    "    left = \"\".join(str(j) for j in range(1, i+1))   # increasing sequence\n",
    "    right = \"\".join(str(j) for j in range(i, 0, -1)) # decreasing sequence\n",
    "    space = \" \" * (2 * (N - i))                     # middle spaces\n",
    "    print(left + space + right)\n"
   ]
  },
  {
   "cell_type": "code",
   "execution_count": null,
   "id": "bf6afe1b",
   "metadata": {},
   "outputs": [],
   "source": []
  }
 ],
 "metadata": {
  "kernelspec": {
   "display_name": "base",
   "language": "python",
   "name": "python3"
  },
  "language_info": {
   "codemirror_mode": {
    "name": "ipython",
    "version": 3
   },
   "file_extension": ".py",
   "mimetype": "text/x-python",
   "name": "python",
   "nbconvert_exporter": "python",
   "pygments_lexer": "ipython3",
   "version": "3.12.4"
  }
 },
 "nbformat": 4,
 "nbformat_minor": 5
}
