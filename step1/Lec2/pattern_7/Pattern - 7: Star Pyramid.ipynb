{
 "cells": [
  {
   "cell_type": "code",
   "execution_count": 2,
   "id": "a952999b",
   "metadata": {},
   "outputs": [
    {
     "name": "stdout",
     "output_type": "stream",
     "text": [
      "    *    \n",
      "   ***   \n",
      "  *****  \n",
      " ******* \n",
      "*********\n"
     ]
    }
   ],
   "source": [
    "odd_list = []\n",
    "\n",
    "N = int(input(\"Enter the input number: \\n\"))\n",
    "odd = 1\n",
    "for i in range(N):\n",
    "    odd_list.append(odd)\n",
    "    odd += 2\n",
    "for i in range(N):\n",
    "    no_of_spaces = int((odd_list[N-1]-odd_list[i])/2)\n",
    "    print(\" \"*no_of_spaces,end = \"\")\n",
    "    print(\"*\"*odd_list[i],end = \"\")\n",
    "    print(\" \"*no_of_spaces,end = \"\")\n",
    "    print(\"\")\n"
   ]
  },
  {
   "cell_type": "code",
   "execution_count": null,
   "id": "89755dbe",
   "metadata": {},
   "outputs": [
    {
     "name": "stdout",
     "output_type": "stream",
     "text": [
      "    *    \n",
      "   ***   \n",
      "  *****  \n",
      " ******* \n",
      "*********\n"
     ]
    }
   ],
   "source": [
    "# Space complexity improved code:\n",
    "# Readability is also improved.\n",
    "\n",
    "N = int(input(\"Enter the input number: \"))\n",
    "\n",
    "for i in range(N):\n",
    "    stars = 2 * i + 1                   # directly compute odd numbers (1,3,5,...)\n",
    "    spaces = (2 * N - 1 - stars) // 2   # total width is (2N-1)\n",
    "    print(\" \" * spaces + \"*\" * stars + \" \" * spaces)\n"
   ]
  },
  {
   "cell_type": "code",
   "execution_count": null,
   "id": "f00ff550",
   "metadata": {},
   "outputs": [],
   "source": []
  }
 ],
 "metadata": {
  "kernelspec": {
   "display_name": "base",
   "language": "python",
   "name": "python3"
  },
  "language_info": {
   "codemirror_mode": {
    "name": "ipython",
    "version": 3
   },
   "file_extension": ".py",
   "mimetype": "text/x-python",
   "name": "python",
   "nbconvert_exporter": "python",
   "pygments_lexer": "ipython3",
   "version": "3.12.4"
  }
 },
 "nbformat": 4,
 "nbformat_minor": 5
}
