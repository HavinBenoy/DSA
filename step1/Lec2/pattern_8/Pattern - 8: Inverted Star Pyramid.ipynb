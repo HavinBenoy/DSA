{
 "cells": [
  {
   "cell_type": "code",
   "execution_count": 2,
   "id": "84d737ee",
   "metadata": {},
   "outputs": [
    {
     "name": "stdout",
     "output_type": "stream",
     "text": [
      "*****\n",
      " *** \n",
      "  *  \n"
     ]
    }
   ],
   "source": [
    "N = int(input(\"Enter the input number : \\n\"))\n",
    "\n",
    "for i in range(N,0,-1):\n",
    "    no_of_stars = 2*i-1\n",
    "    no_of_spaces = ((2*N-1) - no_of_stars) // 2\n",
    "    print(f\"{\" \"*no_of_spaces}{\"*\"*no_of_stars}{\" \"*no_of_spaces}\")"
   ]
  },
  {
   "cell_type": "code",
   "execution_count": null,
   "id": "922f017a",
   "metadata": {},
   "outputs": [],
   "source": [
    "# Styling improved:\n",
    "\n",
    "N = int(input(\"Enter the input number: \"))\n",
    "\n",
    "for i in range(N, 0, -1):\n",
    "    stars = 2 * i - 1\n",
    "    spaces = (2 * N - 1 - stars) // 2\n",
    "    print(\" \" * spaces + \"*\" * stars + \" \" * spaces)\n"
   ]
  },
  {
   "cell_type": "code",
   "execution_count": null,
   "id": "a2baff2e",
   "metadata": {},
   "outputs": [],
   "source": []
  },
  {
   "cell_type": "code",
   "execution_count": null,
   "id": "3f95e999",
   "metadata": {},
   "outputs": [],
   "source": []
  }
 ],
 "metadata": {
  "kernelspec": {
   "display_name": "base",
   "language": "python",
   "name": "python3"
  },
  "language_info": {
   "codemirror_mode": {
    "name": "ipython",
    "version": 3
   },
   "file_extension": ".py",
   "mimetype": "text/x-python",
   "name": "python",
   "nbconvert_exporter": "python",
   "pygments_lexer": "ipython3",
   "version": "3.12.4"
  }
 },
 "nbformat": 4,
 "nbformat_minor": 5
}
