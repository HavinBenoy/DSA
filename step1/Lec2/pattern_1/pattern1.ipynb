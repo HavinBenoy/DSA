{
 "cells": [
  {
   "cell_type": "code",
   "execution_count": 2,
   "id": "7dbb044d",
   "metadata": {},
   "outputs": [
    {
     "name": "stdout",
     "output_type": "stream",
     "text": [
      " *  *  *  *  * \n",
      "\n",
      " *  *  *  *  * \n",
      "\n",
      " *  *  *  *  * \n",
      "\n",
      " *  *  *  *  * \n",
      "\n",
      " *  *  *  *  * \n",
      "\n"
     ]
    }
   ],
   "source": [
    "N = int(input(\"Enter the input number: \\n\"))\n",
    "for i in range(N):\n",
    "    for j in range(N):\n",
    "        print(\" * \",end = \"\")\n",
    "    print(\"\\n\")\n"
   ]
  },
  {
   "cell_type": "code",
   "execution_count": 3,
   "id": "0fa06099",
   "metadata": {},
   "outputs": [
    {
     "name": "stdout",
     "output_type": "stream",
     "text": [
      " *  *  *  *  * \n",
      " *  *  *  *  * \n",
      " *  *  *  *  * \n",
      " *  *  *  *  * \n",
      " *  *  *  *  * \n"
     ]
    }
   ],
   "source": [
    "# Cleaner but same complexity :\n",
    "\n",
    "for i in range(N):\n",
    "    print(\" * \" * N)\n"
   ]
  },
  {
   "cell_type": "code",
   "execution_count": null,
   "id": "86d3709b",
   "metadata": {},
   "outputs": [],
   "source": []
  }
 ],
 "metadata": {
  "kernelspec": {
   "display_name": "base",
   "language": "python",
   "name": "python3"
  },
  "language_info": {
   "codemirror_mode": {
    "name": "ipython",
    "version": 3
   },
   "file_extension": ".py",
   "mimetype": "text/x-python",
   "name": "python",
   "nbconvert_exporter": "python",
   "pygments_lexer": "ipython3",
   "version": "3.12.4"
  }
 },
 "nbformat": 4,
 "nbformat_minor": 5
}
