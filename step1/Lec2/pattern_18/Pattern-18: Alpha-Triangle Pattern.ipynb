{
 "cells": [
  {
   "cell_type": "code",
   "execution_count": 5,
   "id": "07b5d272",
   "metadata": {},
   "outputs": [
    {
     "name": "stdout",
     "output_type": "stream",
     "text": [
      "E \n",
      "D E \n",
      "C D E \n",
      "B C D E \n",
      "A B C D E \n"
     ]
    }
   ],
   "source": [
    "N = int(input(\"Enter an input number: \"))\n",
    "\n",
    "\n",
    "for i in range(1,N+1) :\n",
    "    for j in range(i,0,-1):\n",
    "        print(chr(65+N-j),end = \" \")    # Descending from the biggest (furthest) possible letter towards shorter ones in the pattern-wise manner.\n",
    "    print()\n"
   ]
  },
  {
   "cell_type": "code",
   "execution_count": 6,
   "id": "1c76293c",
   "metadata": {},
   "outputs": [
    {
     "name": "stdout",
     "output_type": "stream",
     "text": [
      "E\n",
      "D E\n",
      "C D E\n",
      "B C D E\n",
      "A B C D E\n"
     ]
    }
   ],
   "source": [
    "# More readable \n",
    "\n",
    "N = int(input(\"Enter an input number: \"))\n",
    "\n",
    "for i in range(N, 0, -1):\n",
    "    row = [chr(64 + j) for j in range(i, N+1)]   # from current letter up to N\n",
    "    print(\" \".join(row))\n"
   ]
  },
  {
   "cell_type": "code",
   "execution_count": null,
   "id": "067fe456",
   "metadata": {},
   "outputs": [],
   "source": []
  }
 ],
 "metadata": {
  "kernelspec": {
   "display_name": "base",
   "language": "python",
   "name": "python3"
  },
  "language_info": {
   "codemirror_mode": {
    "name": "ipython",
    "version": 3
   },
   "file_extension": ".py",
   "mimetype": "text/x-python",
   "name": "python",
   "nbconvert_exporter": "python",
   "pygments_lexer": "ipython3",
   "version": "3.12.4"
  }
 },
 "nbformat": 4,
 "nbformat_minor": 5
}
