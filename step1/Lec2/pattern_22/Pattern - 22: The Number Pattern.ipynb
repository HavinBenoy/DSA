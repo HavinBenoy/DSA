{
 "cells": [
  {
   "cell_type": "code",
   "execution_count": 7,
   "id": "640c27c7",
   "metadata": {},
   "outputs": [
    {
     "name": "stdout",
     "output_type": "stream",
     "text": [
      "4 4 4 4 4 4 4 \n",
      "4 3 3 3 3 3 4 \n",
      "4 3 2 2 2 3 4 \n",
      "4 3 2 1 2 3 4 \n",
      "4 3 2 2 2 3 4 \n",
      "4 3 3 3 3 3 4 \n",
      "4 4 4 4 4 4 4 \n"
     ]
    }
   ],
   "source": [
    "N = int(input(\"Enter an input number:  \"))\n",
    "\n",
    "size = 2*N-1\n",
    "for i in range(size):\n",
    "    for j in range(size):\n",
    "        \n",
    "        min_distance = min(i,j,size-1-i,size-1-j) #Each cell’s number depends on how close it is to the border.\n",
    "        #i → distance from top edge\n",
    "        #j → distance from left edge\n",
    "        #(size - 1 - i) → distance from bottom edge\n",
    "        #(size - 1 - j )→ distance from right edge\n",
    "        print(N - min_distance,end = \" \") #N - minimum distance towards the edge , is the value of each cell in this pattern.\n",
    "    print()"
   ]
  },
  {
   "cell_type": "code",
   "execution_count": null,
   "id": "9b3d05f6",
   "metadata": {},
   "outputs": [],
   "source": []
  },
  {
   "cell_type": "code",
   "execution_count": null,
   "id": "14f31cd4",
   "metadata": {},
   "outputs": [],
   "source": []
  }
 ],
 "metadata": {
  "kernelspec": {
   "display_name": "base",
   "language": "python",
   "name": "python3"
  },
  "language_info": {
   "codemirror_mode": {
    "name": "ipython",
    "version": 3
   },
   "file_extension": ".py",
   "mimetype": "text/x-python",
   "name": "python",
   "nbconvert_exporter": "python",
   "pygments_lexer": "ipython3",
   "version": "3.12.4"
  }
 },
 "nbformat": 4,
 "nbformat_minor": 5
}
