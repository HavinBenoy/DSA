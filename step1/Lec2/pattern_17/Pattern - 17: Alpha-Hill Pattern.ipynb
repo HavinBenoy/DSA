{
 "cells": [
  {
   "cell_type": "code",
   "execution_count": null,
   "id": "4e101fed",
   "metadata": {},
   "outputs": [
    {
     "name": "stdout",
     "output_type": "stream",
     "text": [
      "     A     \n",
      "    ABA    \n",
      "   ABCBA   \n",
      "  ABCDCBA  \n",
      " ABCDEDCBA \n"
     ]
    }
   ],
   "source": [
    "N = int(input(\"Enter an input number: \\n\"))\n",
    "\n",
    "for i in range(1,N+1):\n",
    "    letter = []\n",
    "    space = ((2*N-1) - (2*i-1)) // 2\n",
    "    letters = [chr(64+j) for j in range(1,i+1)] + [chr(64+j) for j in range(i-1,0,-1)] \n",
    "    print(\" \" * space,\"\".join(letters), \" \" * space)"
   ]
  },
  {
   "cell_type": "code",
   "execution_count": null,
   "id": "d233e18d",
   "metadata": {},
   "outputs": [],
   "source": []
  }
 ],
 "metadata": {
  "kernelspec": {
   "display_name": "base",
   "language": "python",
   "name": "python3"
  },
  "language_info": {
   "codemirror_mode": {
    "name": "ipython",
    "version": 3
   },
   "file_extension": ".py",
   "mimetype": "text/x-python",
   "name": "python",
   "nbconvert_exporter": "python",
   "pygments_lexer": "ipython3",
   "version": "3.12.4"
  }
 },
 "nbformat": 4,
 "nbformat_minor": 5
}
