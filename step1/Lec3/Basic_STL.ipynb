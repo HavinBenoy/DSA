{
 "cells": [
  {
   "cell_type": "code",
   "execution_count": 1,
   "id": "aa2a3871",
   "metadata": {},
   "outputs": [
    {
     "name": "stdout",
     "output_type": "stream",
     "text": [
      "1\n"
     ]
    }
   ],
   "source": [
    "# 1. Dynamic Array (C++ vector, Java ArrayList) → Python list\n",
    "arr = [1, 2, 3]\n",
    "arr.append(4)          # push_back\n",
    "arr.pop()              # pop_back\n",
    "print(arr[0])          # random access"
   ]
  },
  {
   "cell_type": "code",
   "execution_count": 3,
   "id": "ba1bdcb8",
   "metadata": {},
   "outputs": [
    {
     "name": "stdout",
     "output_type": "stream",
     "text": [
      "2\n"
     ]
    }
   ],
   "source": [
    "# 2. Stack (C++ stack, Java Stack) → Python list or collections.deque\n",
    "stack = []\n",
    "stack.append(1)        # push\n",
    "stack.append(2)\n",
    "print(stack.pop())     # pop (LIFO)"
   ]
  },
  {
   "cell_type": "code",
   "execution_count": 4,
   "id": "f3249012",
   "metadata": {},
   "outputs": [
    {
     "name": "stdout",
     "output_type": "stream",
     "text": [
      "1\n"
     ]
    }
   ],
   "source": [
    "# 3. Queue (C++ queue, Java Queue) → collections.deque\n",
    "from collections import deque\n",
    "q = deque()\n",
    "q.append(1)            # push\n",
    "q.append(2)\n",
    "print(q.popleft())     # pop from front (FIFO)"
   ]
  },
  {
   "cell_type": "code",
   "execution_count": 5,
   "id": "27b89fda",
   "metadata": {},
   "outputs": [
    {
     "name": "stdout",
     "output_type": "stream",
     "text": [
      "1\n"
     ]
    }
   ],
   "source": [
    "# 4. Priority Queue (C++ priority_queue, Java PriorityQueue) → heapq\n",
    "import heapq\n",
    "pq = []\n",
    "heapq.heappush(pq, 3)\n",
    "heapq.heappush(pq, 1)\n",
    "heapq.heappush(pq, 2)\n",
    "print(heapq.heappop(pq))   # smallest element"
   ]
  },
  {
   "cell_type": "code",
   "execution_count": 6,
   "id": "2098f574",
   "metadata": {},
   "outputs": [
    {
     "name": "stdout",
     "output_type": "stream",
     "text": [
      "5\n"
     ]
    }
   ],
   "source": [
    "# Max-heap equivalent\n",
    "maxpq = []\n",
    "heapq.heappush(maxpq, -1)\n",
    "heapq.heappush(maxpq, -5)\n",
    "print(-heapq.heappop(maxpq))  # largest element"
   ]
  },
  {
   "cell_type": "code",
   "execution_count": 7,
   "id": "cf858556",
   "metadata": {},
   "outputs": [
    {
     "name": "stdout",
     "output_type": "stream",
     "text": [
      "True\n"
     ]
    }
   ],
   "source": [
    "# 5. Set (C++ set, Java HashSet/TreeSet) → Python set\n",
    "s = set()\n",
    "s.add(3)\n",
    "s.add(1)\n",
    "s.add(2)\n",
    "print(2 in s)          # search\n",
    "s.remove(1)"
   ]
  },
  {
   "cell_type": "code",
   "execution_count": 8,
   "id": "aa28673c",
   "metadata": {},
   "outputs": [
    {
     "name": "stdout",
     "output_type": "stream",
     "text": [
      "2\n",
      "apple 2\n",
      "banana 3\n"
     ]
    }
   ],
   "source": [
    "# 6. Map (C++ map, Java HashMap/TreeMap) → Python dict\n",
    "m = {}\n",
    "m[\"apple\"] = 2\n",
    "m[\"banana\"] = 3\n",
    "print(m.get(\"apple\"))\n",
    "for k, v in m.items():\n",
    "    print(k, v)"
   ]
  },
  {
   "cell_type": "code",
   "execution_count": 9,
   "id": "c0825172",
   "metadata": {},
   "outputs": [
    {
     "name": "stdout",
     "output_type": "stream",
     "text": [
      "SortedDict({'a': 2, 'z': 1})\n"
     ]
    }
   ],
   "source": [
    "# 7. Extra (like Java TreeMap / C++ ordered_map) → Python SortedContainers\n",
    "# (Not inbuilt, need `pip install sortedcontainers`)\n",
    "from sortedcontainers import SortedDict\n",
    "sm = SortedDict()\n",
    "sm[\"z\"] = 1\n",
    "sm[\"a\"] = 2\n",
    "print(sm)   # keeps keys sorted\n"
   ]
  },
  {
   "cell_type": "code",
   "execution_count": null,
   "id": "bfe50fd1",
   "metadata": {},
   "outputs": [],
   "source": []
  }
 ],
 "metadata": {
  "kernelspec": {
   "display_name": "base",
   "language": "python",
   "name": "python3"
  },
  "language_info": {
   "codemirror_mode": {
    "name": "ipython",
    "version": 3
   },
   "file_extension": ".py",
   "mimetype": "text/x-python",
   "name": "python",
   "nbconvert_exporter": "python",
   "pygments_lexer": "ipython3",
   "version": "3.12.4"
  }
 },
 "nbformat": 4,
 "nbformat_minor": 5
}
