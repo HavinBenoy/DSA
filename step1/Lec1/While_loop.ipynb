{
 "cells": [
  {
   "cell_type": "code",
   "execution_count": null,
   "id": "c1651369",
   "metadata": {},
   "outputs": [
    {
     "name": "stdout",
     "output_type": "stream",
     "text": [
      "Factorial  is 120\n"
     ]
    }
   ],
   "source": [
    "#Factorial\n",
    "\n",
    "n = int(input(\"Enter a number: \"))\n",
    "factorial =1\n",
    "while (n>1):\n",
    "    factorial *= n\n",
    "    n -= 1\n",
    "print(f\"Factorial is {factorial}\")"
   ]
  },
  {
   "cell_type": "code",
   "execution_count": 7,
   "id": "4c9eaa5f",
   "metadata": {},
   "outputs": [
    {
     "name": "stdout",
     "output_type": "stream",
     "text": [
      "Checking the number : 1\n",
      "Checking the number : 2\n",
      "Checking the number : 3\n",
      "Checking the number : 4\n",
      "Checking the number : 5\n",
      "Checking the number : 6\n",
      "Target acheived\n"
     ]
    }
   ],
   "source": [
    "# Break optimization\n",
    "\n",
    "\n",
    "numbers = [1,2,3,4,5,6,7,8,9]\n",
    "target = 6\n",
    "\n",
    "index = 0\n",
    "while (True):\n",
    "    print(f\"Checking the number : {numbers[index]}\")\n",
    "    if numbers[index] == target:\n",
    "        print(\"Target acheived\")\n",
    "        break\n",
    "    index += 1\n",
    "    if index >= len(numbers):\n",
    "        break"
   ]
  },
  {
   "cell_type": "code",
   "execution_count": 8,
   "id": "5c7ec9c0",
   "metadata": {},
   "outputs": [
    {
     "name": "stdout",
     "output_type": "stream",
     "text": [
      "Checking if the number is odd\n",
      "odd num : 1\n",
      "odd num : 3\n",
      "odd num : 5\n",
      "odd num : 7\n",
      "odd num : 9\n"
     ]
    }
   ],
   "source": [
    "# Continue Optimization\n",
    "\n",
    "numbers = [1, 2, 3, 4, 5, 6, 7, 8, 9, 10]\n",
    "\n",
    "\n",
    "print(f\"Checking if the number is odd\")\n",
    "for i in range(len(numbers)):\n",
    "    if (numbers[i] % 2 == 0):\n",
    "        continue #Skips the iteration cause the number is even\n",
    "    print(f\"odd num : {numbers[i]}\")"
   ]
  },
  {
   "cell_type": "code",
   "execution_count": null,
   "id": "8cc1513b",
   "metadata": {},
   "outputs": [],
   "source": [
    "S"
   ]
  }
 ],
 "metadata": {
  "kernelspec": {
   "display_name": "base",
   "language": "python",
   "name": "python3"
  },
  "language_info": {
   "codemirror_mode": {
    "name": "ipython",
    "version": 3
   },
   "file_extension": ".py",
   "mimetype": "text/x-python",
   "name": "python",
   "nbconvert_exporter": "python",
   "pygments_lexer": "ipython3",
   "version": "3.12.4"
  }
 },
 "nbformat": 4,
 "nbformat_minor": 5
}
