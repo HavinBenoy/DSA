{
 "cells": [
  {
   "cell_type": "code",
   "execution_count": null,
   "id": "9db696eb",
   "metadata": {},
   "outputs": [],
   "source": [
    "'''\n",
    "1. Basic Mathematical Functions\n",
    "\n",
    "\n",
    "math.sqrt(x) # Square root of x.\n",
    "\n",
    "math.pow(x, y)  # x raised to the power y.\n",
    "\n",
    "math.ceil(x)  # Smallest integer ≥ x.\n",
    "\n",
    "math.floor(x)  # Largest integer ≤ x.\n",
    "\n",
    "math.trunc(x)  # Truncates decimal part (towards zero).\n",
    "\n",
    "math.fabs(x)  # Absolute value of x (float).\n",
    "'''"
   ]
  },
  {
   "cell_type": "code",
   "execution_count": null,
   "id": "f9d5b121",
   "metadata": {},
   "outputs": [],
   "source": [
    "'''\n",
    "2. Rounding and Modulus\n",
    "\n",
    "\n",
    "math.modf(x) # Returns fractional and integer parts separately.\n",
    "\n",
    "math.fmod(x, y) # Modulus (remainder) using float division.\n",
    "\n",
    "math.isclose(a, b, rel_tol=..., abs_tol=...) # Checks if two numbers are close.\n",
    "\n",
    "\n",
    "'''"
   ]
  },
  {
   "cell_type": "code",
   "execution_count": null,
   "id": "b3384f9e",
   "metadata": {},
   "outputs": [],
   "source": [
    "'''\n",
    "3. Factorial and Combinatorics\n",
    "\n",
    "\n",
    "math.factorial(n) # Factorial of n.\n",
    "\n",
    "math.comb(n, k) # Number of combinations (n choose k).\n",
    "\n",
    "math.perm(n, k) # Number of permutations.\n",
    "'''"
   ]
  },
  {
   "cell_type": "code",
   "execution_count": null,
   "id": "2107a870",
   "metadata": {},
   "outputs": [],
   "source": [
    "'''\n",
    "4. Greatest Common Divisor / Least Common Multiple\n",
    "\n",
    "\n",
    "math.gcd(a, b) # Greatest common divisor.\n",
    "\n",
    "math.lcm(a, b) # Least common multiple.\n",
    "\n",
    "\n",
    "\n",
    "'''"
   ]
  },
  {
   "cell_type": "code",
   "execution_count": null,
   "id": "e52f0955",
   "metadata": {},
   "outputs": [],
   "source": [
    "'''\n",
    "5. Logarithmic and Exponential\n",
    "\n",
    "\n",
    "math.log(x) # Natural logarithm (base e).\n",
    "\n",
    "math.log10(x) # Logarithm base 10.\n",
    "\n",
    "math.log2(x) # Logarithm base 2.\n",
    "\n",
    "math.exp(x) # e raised to the power x.\n",
    "\n",
    "math.expm1(x) # e^x - 1 (more accurate for small x).\n",
    "\n",
    "\n",
    "\n",
    "\n",
    "'''"
   ]
  },
  {
   "cell_type": "code",
   "execution_count": null,
   "id": "b383a1c4",
   "metadata": {},
   "outputs": [],
   "source": [
    "'''\n",
    "6. Trigonometric Functions\n",
    "\n",
    "\n",
    "\n",
    "math.sin(x) # Sine (x in radians).\n",
    "\n",
    "math.cos(x) # Cosine (x in radians).\n",
    "\n",
    "math.tan(x) # Tangent (x in radians).\n",
    "\n",
    "math.asin(x) # Inverse sine (returns radians).\n",
    "\n",
    "math.acos(x) # Inverse cosine.\n",
    "\n",
    "math.atan(x) # Inverse tangent.\n",
    "\n",
    "math.atan2(y, x) # Arc tangent of y/x considering quadrant.\n",
    "\n",
    "\n",
    "\n",
    "'''"
   ]
  },
  {
   "cell_type": "code",
   "execution_count": null,
   "id": "48b2ac69",
   "metadata": {},
   "outputs": [],
   "source": [
    "'''\n",
    "7. Angle Conversions\n",
    "\n",
    "\n",
    "\n",
    "math.degrees(x) # Convert radians to degrees.\n",
    "\n",
    "math.radians(x) # Convert degrees to radians.\n",
    "\n",
    "'''"
   ]
  },
  {
   "cell_type": "code",
   "execution_count": null,
   "id": "f8a4a2bf",
   "metadata": {},
   "outputs": [],
   "source": [
    "'''\n",
    "8. Special Functions\n",
    "\n",
    "\n",
    "\n",
    "math.hypot(x, y) # Euclidean distance √(x² + y²).\n",
    "\n",
    "math.isfinite(x) # True if x is finite.\n",
    "\n",
    "math.isinf(x) # True if x is infinite.\n",
    "\n",
    "math.isnan(x) # True if x is NaN (Not a Number).\n",
    "\n",
    "math.prod(iterable) # Product of all elements in iterable.\n",
    "\n",
    "\n",
    "\n",
    "'''"
   ]
  },
  {
   "cell_type": "code",
   "execution_count": null,
   "id": "38a2728a",
   "metadata": {},
   "outputs": [],
   "source": []
  }
 ],
 "metadata": {
  "language_info": {
   "name": "python"
  }
 },
 "nbformat": 4,
 "nbformat_minor": 5
}
