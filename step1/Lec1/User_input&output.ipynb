{
 "cells": [
  {
   "cell_type": "code",
   "execution_count": 8,
   "id": "bdc618a6",
   "metadata": {},
   "outputs": [
    {
     "name": "stdout",
     "output_type": "stream",
     "text": [
      "Hello, World!\n",
      "Hello World\\\n",
      "\n",
      "Hello & World\n",
      "World\n"
     ]
    }
   ],
   "source": [
    "# print() syntax and use cases:\n",
    "\n",
    "print(\"Hello, World!\")\n",
    "\n",
    "print(\"Hello\",\"World\",end= \"\\\\\" )\n",
    "\n",
    "print(\"\\n\")\n",
    "\n",
    "print(\"Hello\",\"World\",sep=\" & \")\n",
    "\n",
    "print(\"World\", flush = True)"
   ]
  },
  {
   "cell_type": "code",
   "execution_count": 1,
   "id": "dc1f3b9e",
   "metadata": {},
   "outputs": [
    {
     "name": "stdout",
     "output_type": "stream",
     "text": [
      "4.0\n",
      "3.141592653589793\n"
     ]
    }
   ],
   "source": [
    "import math\n",
    "\n",
    "print(math.sqrt(16))\n",
    "print(math.pi)\n"
   ]
  },
  {
   "cell_type": "code",
   "execution_count": 2,
   "id": "bd29e876",
   "metadata": {},
   "outputs": [
    {
     "name": "stdout",
     "output_type": "stream",
     "text": [
      "120\n",
      "6\n"
     ]
    }
   ],
   "source": [
    "from math import factorial, gcd\n",
    "\n",
    "print(factorial(5))\n",
    "print(gcd(12, 18))\n"
   ]
  },
  {
   "cell_type": "code",
   "execution_count": 4,
   "id": "ff53a354",
   "metadata": {},
   "outputs": [
    {
     "name": "stdout",
     "output_type": "stream",
     "text": [
      "5.0\n",
      "720\n"
     ]
    }
   ],
   "source": [
    "import math as m\n",
    "\n",
    "print(m.sqrt(25))\n",
    "print(m.factorial(6))\n"
   ]
  },
  {
   "cell_type": "markdown",
   "id": "c61a5314",
   "metadata": {},
   "source": [
    "##Problem\n",
    "\n",
    "Complete the function printNumber which takes an integer input from the user and prints it on the screen."
   ]
  },
  {
   "cell_type": "code",
   "execution_count": 3,
   "id": "fb878a81",
   "metadata": {},
   "outputs": [],
   "source": [
    "class Solution:\n",
    "    def printNumber(self):\n",
    "        inp = int(input(\"Enter a number: \"))\n",
    "        print(inp)"
   ]
  },
  {
   "cell_type": "code",
   "execution_count": null,
   "id": "0fb18c80",
   "metadata": {},
   "outputs": [],
   "source": []
  }
 ],
 "metadata": {
  "kernelspec": {
   "display_name": "base",
   "language": "python",
   "name": "python3"
  },
  "language_info": {
   "codemirror_mode": {
    "name": "ipython",
    "version": 3
   },
   "file_extension": ".py",
   "mimetype": "text/x-python",
   "name": "python",
   "nbconvert_exporter": "python",
   "pygments_lexer": "ipython3",
   "version": "3.12.4"
  }
 },
 "nbformat": 4,
 "nbformat_minor": 5
}
